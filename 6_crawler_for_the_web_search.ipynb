{
  "cells": [
    {
      "cell_type": "code",
      "source": [
        "#Aim: Develop a basic crawler for the web search for user defined keywords."
      ],
      "metadata": {
        "id": "IVUY-pVUhK7N"
      },
      "id": "IVUY-pVUhK7N",
      "execution_count": null,
      "outputs": []
    },
    {
      "cell_type": "code",
      "source": [
        "crawler for the web search"
      ],
      "metadata": {
        "id": "preg9rt5hDrs"
      },
      "id": "preg9rt5hDrs",
      "execution_count": null,
      "outputs": []
    },
    {
      "cell_type": "code",
      "execution_count": 1,
      "id": "67fa4e01",
      "metadata": {
        "id": "67fa4e01"
      },
      "outputs": [],
      "source": [
        "import requests\n",
        "url = 'https://en.wikipedia.org/wiki/Stock_market'"
      ]
    },
    {
      "cell_type": "code",
      "execution_count": null,
      "id": "34fcf09b",
      "metadata": {
        "id": "34fcf09b"
      },
      "outputs": [],
      "source": [
        "response = requests.get(url, timeout=3) #timeout set to stop the request action in case of hanging\n",
        "print('Status code: ',response.status_code)\n",
        "if response.status_code==200:\n",
        "    print('Connection successfull.\\n\\n')\n",
        "else: \n",
        "    print('Error. Check status code table.\\n\\n') "
      ]
    },
    {
      "cell_type": "code",
      "execution_count": null,
      "id": "6073e094",
      "metadata": {
        "id": "6073e094"
      },
      "outputs": [],
      "source": [
        "from bs4 import BeautifulSoup\n",
        "# Feed the response's .content into BeauitfulSoup\n",
        "page_content = response.content\n",
        "soup = BeautifulSoup(page_content,'lxml') #'html.parser')\n",
        "\n",
        "# Preview soup contents using .prettify()\n",
        "print(soup.prettify()[:2000])\n",
        "\n",
        "body = soup.body\n",
        "for child in body.children:\n",
        "  # print child if its not empty\n",
        "  print(child if child is not None else ' ', '\\n\\n')  # '\\n\\n' for visual separation\n",
        "\n",
        "title = soup.head.title\n",
        "print(title.parent.name)\n",
        "\n",
        "results = soup.find_all()\n",
        "\n",
        "results"
      ]
    }
  ],
  "metadata": {
    "kernelspec": {
      "display_name": "Python 3 (ipykernel)",
      "language": "python",
      "name": "python3"
    },
    "language_info": {
      "codemirror_mode": {
        "name": "ipython",
        "version": 3
      },
      "file_extension": ".py",
      "mimetype": "text/x-python",
      "name": "python",
      "nbconvert_exporter": "python",
      "pygments_lexer": "ipython3",
      "version": "3.10.4"
    },
    "colab": {
      "name": "6 crawler for the web search.ipynb",
      "provenance": [],
      "collapsed_sections": []
    }
  },
  "nbformat": 4,
  "nbformat_minor": 5
}