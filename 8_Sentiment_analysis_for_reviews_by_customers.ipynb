{
  "cells": [
    {
      "cell_type": "code",
      "source": [
        "#Aim: Sentiment analysis for reviews by customers and visualize the same."
      ],
      "metadata": {
        "id": "-dtJY7Eni2IU"
      },
      "id": "-dtJY7Eni2IU",
      "execution_count": null,
      "outputs": []
    },
    {
      "cell_type": "code",
      "execution_count": null,
      "id": "6103b80b",
      "metadata": {
        "id": "6103b80b"
      },
      "outputs": [],
      "source": [
        "import nltk\n",
        "nltk.download('vader_lexicon') # this is required for SentimentIntensityAnalyzer (SIA)\n",
        "nltk.download('movie_reviews') # this is required for NaiveBayesAnalyzer of blobber"
      ]
    },
    {
      "cell_type": "code",
      "execution_count": null,
      "id": "7a765e6d",
      "metadata": {
        "id": "7a765e6d"
      },
      "outputs": [],
      "source": [
        "from nltk.sentiment.vader import SentimentIntensityAnalyzer as SIA\n",
        "sia = SIA() #instantiated sentiment analysis object of the vader lexicon. the best in my opinion\n",
        "sia.polarity_scores(\"This restaurant was great, but I'm not sure if I'll go there again.\")"
      ]
    },
    {
      "cell_type": "code",
      "execution_count": null,
      "id": "c5997086",
      "metadata": {
        "id": "c5997086"
      },
      "outputs": [],
      "source": [
        "text = \"I just got a call from my boss - does he realise it's Saturday?\"\n",
        "sia.polarity_scores(text)"
      ]
    },
    {
      "cell_type": "code",
      "execution_count": null,
      "id": "11df6a98",
      "metadata": {
        "id": "11df6a98"
      },
      "outputs": [],
      "source": [
        "text = \"I just got a call from my boss - does he realise it's SATURDAY?! :(\"\n",
        "sia.polarity_scores(text)"
      ]
    },
    {
      "cell_type": "code",
      "execution_count": null,
      "id": "3cacb31b",
      "metadata": {
        "id": "3cacb31b"
      },
      "outputs": [],
      "source": [
        "text = \"I just got a call from my boss - does he realise it's Saturday? 😊\"\n",
        "sia.polarity_scores(text)"
      ]
    },
    {
      "cell_type": "code",
      "execution_count": null,
      "id": "02c74e9b",
      "metadata": {
        "id": "02c74e9b"
      },
      "outputs": [],
      "source": [
        "from textblob import TextBlob\n",
        "from textblob import Blobber\n",
        "from textblob.sentiments import NaiveBayesAnalyzer\n",
        "nltk.download('punkt')"
      ]
    },
    {
      "cell_type": "code",
      "execution_count": null,
      "id": "dbfc5ac1",
      "metadata": {
        "id": "dbfc5ac1"
      },
      "outputs": [],
      "source": [
        "blob = TextBlob(\"This restaurant was great, but I'm not sure if I'll go there again.\")\n",
        "blob.sentiment"
      ]
    },
    {
      "cell_type": "code",
      "execution_count": null,
      "id": "c91054eb",
      "metadata": {
        "id": "c91054eb"
      },
      "outputs": [],
      "source": [
        "blobber = Blobber(analyzer=NaiveBayesAnalyzer())\n",
        "\n",
        "blob = blobber(\"This restaurant was great, but I'm not sure if I'll go there again.\")\n",
        "blob.sentiment"
      ]
    },
    {
      "cell_type": "code",
      "execution_count": 13,
      "id": "17acdaec",
      "metadata": {
        "id": "17acdaec"
      },
      "outputs": [],
      "source": [
        "import pandas as pd"
      ]
    },
    {
      "cell_type": "code",
      "execution_count": null,
      "id": "3eb7b6cc",
      "metadata": {
        "id": "3eb7b6cc"
      },
      "outputs": [],
      "source": [
        "df = pd.DataFrame({'content': [\n",
        "    \"I love love love love this kitten\",\n",
        "    \"I hate hate hate hate this keyboard\",\n",
        "    \"I'm not sure how I feel about toast\",\n",
        "    \"Did you see the baseball game yesterday?\",\n",
        "    \"The package was delivered late and the contents were broken\",\n",
        "    \"Trashy television shows are some of my favorites\",\n",
        "    \"I'm seeing a Kubrick film tomorrow, I hear not so great things about it.\",\n",
        "    \"I find chirping birds irritating, but I know I'm not the only one\",\n",
        "]})\n",
        "df"
      ]
    },
    {
      "cell_type": "code",
      "execution_count": 15,
      "id": "692d072c",
      "metadata": {
        "id": "692d072c"
      },
      "outputs": [],
      "source": [
        "def get_scores(content):\n",
        "    blob = TextBlob(content)\n",
        "    nb_blob = blobber(content)\n",
        "    sia_scores = sia.polarity_scores(content)\n",
        "    \n",
        "    return pd.Series({\n",
        "        'content': content,\n",
        "        'textblob': blob.sentiment.polarity,\n",
        "        'textblob_bayes': nb_blob.sentiment.p_pos - nb_blob.sentiment.p_neg,\n",
        "        'nltk': sia_scores['compound'],\n",
        "    })"
      ]
    },
    {
      "cell_type": "code",
      "execution_count": null,
      "id": "03d54243",
      "metadata": {
        "id": "03d54243"
      },
      "outputs": [],
      "source": [
        "scores = df.content.apply(get_scores)\n",
        "scores.style.background_gradient(cmap='RdYlGn', axis=None, low=0.4, high=0.4)"
      ]
    },
    {
      "cell_type": "code",
      "execution_count": null,
      "id": "f379f61c",
      "metadata": {
        "id": "f379f61c"
      },
      "outputs": [],
      "source": [
        ""
      ]
    }
  ],
  "metadata": {
    "kernelspec": {
      "display_name": "Python 3 (ipykernel)",
      "language": "python",
      "name": "python3"
    },
    "language_info": {
      "codemirror_mode": {
        "name": "ipython",
        "version": 3
      },
      "file_extension": ".py",
      "mimetype": "text/x-python",
      "name": "python",
      "nbconvert_exporter": "python",
      "pygments_lexer": "ipython3",
      "version": "3.10.4"
    },
    "colab": {
      "name": "8 Sentiment analysis for reviews by customers.ipynb",
      "provenance": [],
      "collapsed_sections": []
    }
  },
  "nbformat": 4,
  "nbformat_minor": 5
}